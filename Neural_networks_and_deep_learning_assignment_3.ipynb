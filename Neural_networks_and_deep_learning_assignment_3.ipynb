{
  "nbformat": 4,
  "nbformat_minor": 0,
  "metadata": {
    "colab": {
      "provenance": []
    },
    "kernelspec": {
      "name": "python3",
      "display_name": "Python 3"
    },
    "language_info": {
      "name": "python"
    }
  },
  "cells": [
    {
      "cell_type": "markdown",
      "source": [
        "Create a class Employee and then do the following\n",
        "• Create a data member to count the number of Employees\n",
        "• Create a constructor to initialize name, family, salary, department\n",
        "• Create a function to average salary\n",
        "• Create a Fulltime Employee class and it should inherit the properties of Employee class\n",
        "• Create the instances of Fulltime Employee class and Employee class and call their member functions."
      ],
      "metadata": {
        "id": "Ag1ydHPGpgAN"
      }
    },
    {
      "cell_type": "code",
      "source": [
        "class Employee:\n",
        "    num_employees = 0  # Class variable to count the number of employees\n",
        "\n",
        "    def __init__(self, name, family, salary, department):\n",
        "        self.name = name\n",
        "        self.family = family\n",
        "        self.salary = salary\n",
        "        self.department = department\n",
        "        Employee.num_employees += 1  # Increment the count of employees\n",
        "\n",
        "\n",
        "    def average_salary(employees):\n",
        "        total_salary_of_the_employee = sum(emp.salary for emp in employees)\n",
        "        return total_salary_of_the_employee / len(employees) if len(employees) > 0 else 0\n",
        "\n",
        "class FulltimeEmployee(Employee):\n",
        "    def __init__(self, name, family, salary, department):\n",
        "        super().__init__(name, family, salary, department)\n",
        "\n",
        "\n",
        "# creating instances for the full time employee as well as the employees of the employee classes\n",
        "employee_1 = Employee(\"Jp reddy\", \"Family 1\", 58000, \"HR\")\n",
        "employee_2 = Employee(\"Rao Ramesh\", \"Family 2\", 82000, \"Finance\")\n",
        "employee_3 = Employee(\"Vikas Reddy\", \"Family 3\", 928000, \"IT\")\n",
        "\n",
        "fulltime_employee_1 = FulltimeEmployee(\"George Bailey\", \"Family 4\", 96200, \"Marketing\")\n",
        "fulltime_employee_2 = FulltimeEmployee(\"Browney choan\", \"Family 5\", 85400, \"Operations\")\n",
        "\n",
        "# Calling the members of the function\n",
        "employees = [employee_1, employee_2, employee_3]\n",
        "employee_2=[fulltime_employee_1, fulltime_employee_2]\n",
        "avg_salary = Employee.average_salary(employees)\n",
        "avg_salary_full_time=Employee.average_salary(employee_2)\n",
        "print(f\"Average salary of employee: {avg_salary}\")\n",
        "print(f\"Average salary of fulltime employee : {avg_salary_full_time}\")\n",
        "\n",
        "print(f\"Total Number of employees: {Employee.num_employees}\")\n"
      ],
      "metadata": {
        "colab": {
          "base_uri": "https://localhost:8080/"
        },
        "id": "G3OkF2fAjV7l",
        "outputId": "42384220-fe13-4d15-bfba-56be8028614a"
      },
      "execution_count": null,
      "outputs": [
        {
          "output_type": "stream",
          "name": "stdout",
          "text": [
            "Average salary of employee: 356000.0\n",
            "Average salary of fulltime employee : 90800.0\n",
            "Total Number of employees: 5\n"
          ]
        }
      ]
    },
    {
      "cell_type": "markdown",
      "source": [
        "Numpy\n",
        "Using NumPy create random vector of size 20 having only float in the range 1-20.\n",
        "Then reshape the array to 4 by 5\n",
        "Then replace the max in each row by 0 (axis=1) (you can NOT implement it via for loop)\n",
        "Evaluation"
      ],
      "metadata": {
        "id": "HLxqOFsIWoWm"
      }
    },
    {
      "cell_type": "code",
      "source": [
        "import numpy as np\n",
        "\n",
        "# Create a random vector of size 20 with integers in the range 1-20\n",
        "random_matrix = np.round(np.random.uniform(1,20,size=20),1)\n",
        "print(\"Original matrix=\",random_matrix)\n",
        "\n",
        "# Here the vector should be replaced in 4x5 matrix conversion\n",
        "reshaped_matrix = random_matrix.reshape(4, 5)\n",
        "\n",
        "# Replace the maximum value in each row with 0\n",
        "max_indices = np.argmax(reshaped_matrix, axis=1)\n",
        "reshaped_matrix[np.arange(4), max_indices] = 0\n",
        "\n",
        "# Here the reshaped matrix will be printed\n",
        "print(\"\\nReshaped matrix:\")\n",
        "print(reshaped_matrix)\n"
      ],
      "metadata": {
        "colab": {
          "base_uri": "https://localhost:8080/"
        },
        "id": "-GivnntV4DzW",
        "outputId": "2f53ce09-5e8b-4a33-bf13-2486f869ae1e"
      },
      "execution_count": null,
      "outputs": [
        {
          "output_type": "stream",
          "name": "stdout",
          "text": [
            "Original matrix= [13.1 10.4  1.1 17.5  5.2  3.7 13.1  4.7  1.4  7.1  4.4  5.3  4.5 16.7\n",
            " 11.4 19.5 16.8  8.5 16.   3. ]\n",
            "\n",
            "Reshaped matrix:\n",
            "[[13.1 10.4  1.1  0.   5.2]\n",
            " [ 3.7  0.   4.7  1.4  7.1]\n",
            " [ 4.4  5.3  4.5  0.  11.4]\n",
            " [ 0.  16.8  8.5 16.   3. ]]\n"
          ]
        }
      ]
    }
  ]
}